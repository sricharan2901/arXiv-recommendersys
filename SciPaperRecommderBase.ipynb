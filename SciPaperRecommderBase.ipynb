{
  "cells": [
    {
      "cell_type": "markdown",
      "metadata": {
        "id": "Wv5gFCzFTbAD"
      },
      "source": [
        "# Scientific Paper Recommender System"
      ]
    },
    {
      "cell_type": "markdown",
      "metadata": {
        "id": "X8puILMFTe7u"
      },
      "source": [
        "Working on a chunk size of 50000 on the arXiv Dataset. Follows the given steps of executions\n",
        "\n",
        "1. Extract Embeddings using SciBert\n",
        "2. K-Means clustering\n",
        "3. Testing on the given dataset"
      ]
    },
    {
      "cell_type": "markdown",
      "metadata": {
        "id": "4ilNW5TD4i-c"
      },
      "source": [
        "## Dataset Loading"
      ]
    },
    {
      "cell_type": "code",
      "execution_count": 1,
      "metadata": {
        "colab": {
          "base_uri": "https://localhost:8080/"
        },
        "id": "lTE4XR08TPxH",
        "outputId": "e9c80791-e47a-403d-8303-eb476a877146"
      },
      "outputs": [
        {
          "name": "stdout",
          "output_type": "stream",
          "text": [
            "Requirement already satisfied: kaggle in /usr/local/lib/python3.11/dist-packages (1.6.17)\n",
            "Requirement already satisfied: six>=1.10 in /usr/local/lib/python3.11/dist-packages (from kaggle) (1.17.0)\n",
            "Requirement already satisfied: certifi>=2023.7.22 in /usr/local/lib/python3.11/dist-packages (from kaggle) (2025.1.31)\n",
            "Requirement already satisfied: python-dateutil in /usr/local/lib/python3.11/dist-packages (from kaggle) (2.8.2)\n",
            "Requirement already satisfied: requests in /usr/local/lib/python3.11/dist-packages (from kaggle) (2.32.3)\n",
            "Requirement already satisfied: tqdm in /usr/local/lib/python3.11/dist-packages (from kaggle) (4.67.1)\n",
            "Requirement already satisfied: python-slugify in /usr/local/lib/python3.11/dist-packages (from kaggle) (8.0.4)\n",
            "Requirement already satisfied: urllib3 in /usr/local/lib/python3.11/dist-packages (from kaggle) (2.3.0)\n",
            "Requirement already satisfied: bleach in /usr/local/lib/python3.11/dist-packages (from kaggle) (6.2.0)\n",
            "Requirement already satisfied: webencodings in /usr/local/lib/python3.11/dist-packages (from bleach->kaggle) (0.5.1)\n",
            "Requirement already satisfied: text-unidecode>=1.3 in /usr/local/lib/python3.11/dist-packages (from python-slugify->kaggle) (1.3)\n",
            "Requirement already satisfied: charset-normalizer<4,>=2 in /usr/local/lib/python3.11/dist-packages (from requests->kaggle) (3.4.1)\n",
            "Requirement already satisfied: idna<4,>=2.5 in /usr/local/lib/python3.11/dist-packages (from requests->kaggle) (3.10)\n",
            "cp: cannot stat 'kaggle.json': No such file or directory\n",
            "chmod: cannot access '/root/.kaggle/kaggle.json': No such file or directory\n",
            "Warning: Looks like you're using an outdated API Version, please consider updating (server 1.7.4.2 / client 1.6.17)\n",
            "Dataset URL: https://www.kaggle.com/datasets/Cornell-University/arxiv\n",
            "License(s): CC0-1.0\n",
            "Downloading arxiv.zip to /content\n",
            " 99% 1.40G/1.41G [00:13<00:00, 167MB/s]\n",
            "100% 1.41G/1.41G [00:13<00:00, 115MB/s]\n",
            "Archive:  /content/arxiv.zip\n",
            "  inflating: arxiv-metadata-oai-snapshot.json  \n"
          ]
        }
      ],
      "source": [
        "!pip install kaggle\n",
        "\n",
        "!mkdir ~/.kaggle\n",
        "!cp kaggle.json ~/.kaggle/\n",
        "!chmod 600 ~/.kaggle/kaggle.json\n",
        "!kaggle datasets download -d Cornell-University/arxiv -p /content/\n",
        "!unzip /content/arxiv.zip"
      ]
    },
    {
      "cell_type": "code",
      "execution_count": 2,
      "metadata": {
        "colab": {
          "base_uri": "https://localhost:8080/"
        },
        "id": "bVbaCOfLTV3W",
        "outputId": "48066544-0659-44c0-a5b2-e5ee868d56ec"
      },
      "outputs": [
        {
          "name": "stdout",
          "output_type": "stream",
          "text": [
            "<class 'pandas.core.frame.DataFrame'>\n",
            "RangeIndex: 50000 entries, 0 to 49999\n",
            "Data columns (total 14 columns):\n",
            " #   Column          Non-Null Count  Dtype  \n",
            "---  ------          --------------  -----  \n",
            " 0   id              50000 non-null  float64\n",
            " 1   submitter       50000 non-null  object \n",
            " 2   authors         50000 non-null  object \n",
            " 3   title           50000 non-null  object \n",
            " 4   comments        43939 non-null  object \n",
            " 5   journal-ref     25683 non-null  object \n",
            " 6   doi             30452 non-null  object \n",
            " 7   report-no       4814 non-null   object \n",
            " 8   categories      50000 non-null  object \n",
            " 9   license         6951 non-null   object \n",
            " 10  abstract        50000 non-null  object \n",
            " 11  versions        50000 non-null  object \n",
            " 12  update_date     50000 non-null  object \n",
            " 13  authors_parsed  50000 non-null  object \n",
            "dtypes: float64(1), object(13)\n",
            "memory usage: 5.3+ MB\n",
            "None\n",
            "         id           submitter  \\\n",
            "0  704.0001      Pavel Nadolsky   \n",
            "1  704.0002        Louis Theran   \n",
            "2  704.0003         Hongjun Pan   \n",
            "3  704.0004        David Callan   \n",
            "4  704.0005  Alberto Torchinsky   \n",
            "\n",
            "                                             authors  \\\n",
            "0  C. Bal\\'azs, E. L. Berger, P. M. Nadolsky, C.-...   \n",
            "1                    Ileana Streinu and Louis Theran   \n",
            "2                                        Hongjun Pan   \n",
            "3                                       David Callan   \n",
            "4           Wael Abu-Shammala and Alberto Torchinsky   \n",
            "\n",
            "                                               title  \\\n",
            "0  Calculation of prompt diphoton production cros...   \n",
            "1           Sparsity-certifying Graph Decompositions   \n",
            "2  The evolution of the Earth-Moon system based o...   \n",
            "3  A determinant of Stirling cycle numbers counts...   \n",
            "4  From dyadic $\\Lambda_{\\alpha}$ to $\\Lambda_{\\a...   \n",
            "\n",
            "                                  comments  \\\n",
            "0  37 pages, 15 figures; published version   \n",
            "1    To appear in Graphs and Combinatorics   \n",
            "2                      23 pages, 3 figures   \n",
            "3                                 11 pages   \n",
            "4                                     None   \n",
            "\n",
            "                                 journal-ref                         doi  \\\n",
            "0                   Phys.Rev.D76:013009,2007  10.1103/PhysRevD.76.013009   \n",
            "1                                       None                        None   \n",
            "2                                       None                        None   \n",
            "3                                       None                        None   \n",
            "4  Illinois J. Math. 52 (2008) no.2, 681-689                        None   \n",
            "\n",
            "          report-no       categories  \\\n",
            "0  ANL-HEP-PR-07-12           hep-ph   \n",
            "1              None    math.CO cs.CG   \n",
            "2              None   physics.gen-ph   \n",
            "3              None          math.CO   \n",
            "4              None  math.CA math.FA   \n",
            "\n",
            "                                             license  \\\n",
            "0                                               None   \n",
            "1  http://arxiv.org/licenses/nonexclusive-distrib...   \n",
            "2                                               None   \n",
            "3                                               None   \n",
            "4                                               None   \n",
            "\n",
            "                                            abstract  \\\n",
            "0    A fully differential calculation in perturba...   \n",
            "1    We describe a new algorithm, the $(k,\\ell)$-...   \n",
            "2    The evolution of Earth-Moon system is descri...   \n",
            "3    We show that a determinant of Stirling cycle...   \n",
            "4    In this paper we show how to compute the $\\L...   \n",
            "\n",
            "                                            versions update_date  \\\n",
            "0  [{'version': 'v1', 'created': 'Mon, 2 Apr 2007...  2008-11-26   \n",
            "1  [{'version': 'v1', 'created': 'Sat, 31 Mar 200...  2008-12-13   \n",
            "2  [{'version': 'v1', 'created': 'Sun, 1 Apr 2007...  2008-01-13   \n",
            "3  [{'version': 'v1', 'created': 'Sat, 31 Mar 200...  2007-05-23   \n",
            "4  [{'version': 'v1', 'created': 'Mon, 2 Apr 2007...  2013-10-15   \n",
            "\n",
            "                                      authors_parsed  \n",
            "0  [[Balázs, C., ], [Berger, E. L., ], [Nadolsky,...  \n",
            "1           [[Streinu, Ileana, ], [Theran, Louis, ]]  \n",
            "2                                 [[Pan, Hongjun, ]]  \n",
            "3                                [[Callan, David, ]]  \n",
            "4  [[Abu-Shammala, Wael, ], [Torchinsky, Alberto, ]]  \n"
          ]
        }
      ],
      "source": [
        "import pandas as pd\n",
        "\n",
        "file_path = \"arxiv-metadata-oai-snapshot.json\"\n",
        "\n",
        "chunk_size = 50000\n",
        "df_chunk = pd.read_json(file_path, lines=True, chunksize=chunk_size)\n",
        "df = next(df_chunk)\n",
        "df1 = df[[\"abstract\"]]\n",
        "\n",
        "print(df.info())\n",
        "print(df.head())"
      ]
    },
    {
      "cell_type": "markdown",
      "metadata": {
        "id": "wsMKExUIe9Hh"
      },
      "source": [
        "## Extracting embeddings using SciBERT"
      ]
    },
    {
      "cell_type": "code",
      "execution_count": 3,
      "metadata": {
        "colab": {
          "base_uri": "https://localhost:8080/",
          "height": 329,
          "referenced_widgets": [
            "83d93660879b4a468c0573921267b506",
            "e6d59633a26f4a0d9c97e19816af0c6e",
            "c63add04c74e47e19a1193090a2d2d9e",
            "aa7504fe21974baf97541d39aee3bfd3",
            "6c0aba26ec4d42e7b9f16e6ca4a75254",
            "44bd127536334425b4e44fc58fdb9a8c",
            "de947cbe5d654bfbb7e439d2f325df86",
            "6fd8df7f1e1940e09fe69ed2785ff466",
            "c53f05b998624d898e4b48bad95ea692",
            "9c93d6e987b346a4abcb774c97fd59e6",
            "fffafff031364b5293a17bb2d6239c9e",
            "43a85598d3d14058a5524ff84743ab3f",
            "190e96a7fe5d448587eaae78140a0761",
            "7385a958bb5b4a8fb9b1947b9d866bd2",
            "e9c1926355064c73a43b2a97dba47de9",
            "90b8a052a7aa4a609f89e8c92dffa6ac",
            "f25ca71bd7ce43beb4fe9d28216d7b5a",
            "6c2f7026d3f745fb8fac556839d39d3a",
            "6796033d226540f288db21947b06fa82",
            "ea60b611beea4c5e8cf467894579a761",
            "378460dcc5b04fbfb9c50e8defdcbb37",
            "23ebcb5d067543e0a794d1abcc3b3ab9",
            "0f1a17a0b3fc403daef3c267bf27873a",
            "1baac627bb514be59e7cde79d8d446a1",
            "c44e85cec9954993b23eaf5e16601b0b",
            "bafe050952aa4aefa1316069ab88e2a1",
            "4610d695f94b44bdb8511771fcb844d1",
            "3a19677ce734490d8c548c272e9c0cdf",
            "afe8b6fb5a314f00bcd1cdb795da28a1",
            "8f59fc4122d2494887fc1e4f92a37a1a",
            "263d2b6dff444643b22fe37b1033bbbc",
            "a4a6aaf80a3945ebb587cf2a5c33aed7",
            "84a704efb0b9482eb00cbf128e755ffe"
          ]
        },
        "id": "GWjfcsVO4qPh",
        "outputId": "ea93ccf3-f878-464f-91c1-025c1566eeed"
      },
      "outputs": [
        {
          "name": "stderr",
          "output_type": "stream",
          "text": [
            "/usr/local/lib/python3.11/dist-packages/huggingface_hub/utils/_auth.py:94: UserWarning: \n",
            "The secret `HF_TOKEN` does not exist in your Colab secrets.\n",
            "To authenticate with the Hugging Face Hub, create a token in your settings tab (https://huggingface.co/settings/tokens), set it as secret in your Google Colab and restart your session.\n",
            "You will be able to reuse this secret in all of your notebooks.\n",
            "Please note that authentication is recommended but still optional to access public models or datasets.\n",
            "  warnings.warn(\n"
          ]
        },
        {
          "data": {
            "application/vnd.jupyter.widget-view+json": {
              "model_id": "83d93660879b4a468c0573921267b506",
              "version_major": 2,
              "version_minor": 0
            },
            "text/plain": [
              "config.json:   0%|          | 0.00/385 [00:00<?, ?B/s]"
            ]
          },
          "metadata": {},
          "output_type": "display_data"
        },
        {
          "data": {
            "application/vnd.jupyter.widget-view+json": {
              "model_id": "43a85598d3d14058a5524ff84743ab3f",
              "version_major": 2,
              "version_minor": 0
            },
            "text/plain": [
              "vocab.txt:   0%|          | 0.00/228k [00:00<?, ?B/s]"
            ]
          },
          "metadata": {},
          "output_type": "display_data"
        },
        {
          "data": {
            "application/vnd.jupyter.widget-view+json": {
              "model_id": "0f1a17a0b3fc403daef3c267bf27873a",
              "version_major": 2,
              "version_minor": 0
            },
            "text/plain": [
              "pytorch_model.bin:   0%|          | 0.00/442M [00:00<?, ?B/s]"
            ]
          },
          "metadata": {},
          "output_type": "display_data"
        },
        {
          "name": "stderr",
          "output_type": "stream",
          "text": [
            "Some weights of the PyTorch model were not used when initializing the TF 2.0 model TFBertModel: ['cls.seq_relationship.bias', 'cls.predictions.decoder.bias', 'cls.predictions.transform.dense.weight', 'cls.predictions.bias', 'cls.seq_relationship.weight', 'cls.predictions.transform.LayerNorm.bias', 'cls.predictions.transform.LayerNorm.weight', 'cls.predictions.transform.dense.bias', 'cls.predictions.decoder.weight']\n",
            "- This IS expected if you are initializing TFBertModel from a PyTorch model trained on another task or with another architecture (e.g. initializing a TFBertForSequenceClassification model from a BertForPreTraining model).\n",
            "- This IS NOT expected if you are initializing TFBertModel from a PyTorch model that you expect to be exactly identical (e.g. initializing a TFBertForSequenceClassification model from a BertForSequenceClassification model).\n",
            "All the weights of TFBertModel were initialized from the PyTorch model.\n",
            "If your task is similar to the task the model of the checkpoint was trained on, you can already use TFBertModel for predictions without further training.\n"
          ]
        }
      ],
      "source": [
        "from transformers import TFAutoModel, AutoTokenizer\n",
        "import tensorflow as tf\n",
        "import numpy as np\n",
        "import re\n",
        "\n",
        "MODEL_NAME = \"allenai/scibert_scivocab_uncased\"\n",
        "tokenizer = AutoTokenizer.from_pretrained(MODEL_NAME)\n",
        "model = TFAutoModel.from_pretrained(MODEL_NAME, from_pt=True)\n",
        "\n",
        "def get_embedding_batch(texts):\n",
        "    inputs = tokenizer(texts, return_tensors=\"tf\", truncation=True, padding=True, max_length=512)\n",
        "    outputs = model(**inputs).last_hidden_state\n",
        "    embeddings = tf.reduce_mean(outputs, axis=1)\n",
        "    return embeddings.numpy().astype(np.float64)"
      ]
    },
    {
      "cell_type": "code",
      "execution_count": 4,
      "metadata": {
        "id": "gSj8mD3wtQ6K"
      },
      "outputs": [],
      "source": [
        "batch_size = 128\n",
        "\n",
        "#Preprocessing to remove numbers so that the metric calculations doesnt take numbers from the abstract for common words\n",
        "def remove_numbers(text):\n",
        "    return re.sub(r'\\b\\d+\\b', '', text)\n",
        "\n",
        "df['abstract_cleaned'] = df['abstract'].fillna(\"\").apply(remove_numbers)\n",
        "\n",
        "dataset = tf.data.Dataset.from_tensor_slices(df[\"abstract_cleaned\"].tolist())\n",
        "dataset = dataset.batch(batch_size).prefetch(tf.data.AUTOTUNE)\n",
        "\n",
        "embeddings = []\n",
        "for batch_texts in dataset:\n",
        "    batch_texts = [str(text) for text in batch_texts.numpy().tolist()]\n",
        "    batch_embeddings = get_embedding_batch(batch_texts)\n",
        "    embeddings.append(batch_embeddings)\n",
        "embeddings = np.vstack(embeddings)"
      ]
    },
    {
      "cell_type": "markdown",
      "metadata": {
        "id": "wWyCzJ_dfCGI"
      },
      "source": [
        "## K-Means Clustering with K=50"
      ]
    },
    {
      "cell_type": "code",
      "execution_count": 5,
      "metadata": {
        "colab": {
          "base_uri": "https://localhost:8080/"
        },
        "id": "Fcj6AZHc42tE",
        "outputId": "13727db1-1214-430b-f708-e29944bcfb52"
      },
      "outputs": [
        {
          "name": "stdout",
          "output_type": "stream",
          "text": [
            "Training Completed. Model saved.\n"
          ]
        }
      ],
      "source": [
        "from sklearn.cluster import KMeans\n",
        "import joblib\n",
        "\n",
        "num_clusters = 50\n",
        "kmeans = KMeans(n_clusters=num_clusters, random_state=42, n_init=10)\n",
        "df['cluster'] = kmeans.fit_predict(embeddings)\n",
        "\n",
        "joblib.dump(kmeans, \"kmeans_model.pkl\")\n",
        "df.to_csv(\"clustered_arxiv_papers.csv\", index=False)\n",
        "\n",
        "print(\"Training Completed. Model saved.\")"
      ]
    },
    {
      "cell_type": "markdown",
      "metadata": {
        "id": "3glwbTVcfFjy"
      },
      "source": [
        "## Recommending Papers with title and link"
      ]
    },
    {
      "cell_type": "code",
      "execution_count": 6,
      "metadata": {
        "id": "fQCOc8ogaRcz"
      },
      "outputs": [],
      "source": [
        "def recommend_papers(input_abstract, top_n=5):\n",
        "    embedding = get_embedding_batch([input_abstract])\n",
        "    kmeans = joblib.load(\"kmeans_model.pkl\")\n",
        "    cluster = kmeans.predict(embedding)[0]\n",
        "    clustered_df = pd.read_csv(\"clustered_arxiv_papers.csv\")\n",
        "\n",
        "    relevant_papers = clustered_df[clustered_df['cluster'] == cluster]\n",
        "    num_relevant_papers = len(relevant_papers)\n",
        "    n_samples = min(top_n, num_relevant_papers)\n",
        "\n",
        "    recommendations = relevant_papers[['id', 'title']].sample(n=n_samples, random_state=42)\n",
        "\n",
        "    return [(row['title'], f\"https://arxiv.org/abs/0{row['id']}\") for _, row in recommendations.iterrows()]"
      ]
    },
    {
      "cell_type": "code",
      "execution_count": 7,
      "metadata": {
        "colab": {
          "base_uri": "https://localhost:8080/"
        },
        "id": "H0a1ZleIfhje",
        "outputId": "b33d2bdf-0482-4ddc-feb4-60390cc32238"
      },
      "outputs": [
        {
          "name": "stdout",
          "output_type": "stream",
          "text": [
            "\n",
            "Input Abstract: Quantum computing algorithms for solving optimization problems in logistics and supply chain management.\n",
            "\n",
            "Recommended Paper 1: QCD on the Cell Broadband Engine\n",
            "https://arxiv.org/abs/0710.2442\n",
            "\n",
            "Recommended Paper 2: Cross Comparison of Synonym Graphs in A Multi Linguistic Context\n",
            "https://arxiv.org/abs/0709.2476\n",
            "\n",
            "Recommended Paper 3: Thermal Benchmark and Power Benchmark Software\n",
            "https://arxiv.org/abs/0709.1834\n",
            "\n",
            "Recommended Paper 4: Narratives within immersive technologies\n",
            "https://arxiv.org/abs/0704.2542\n",
            "\n",
            "Recommended Paper 5: Designer-Driven Topology Optimization for Pipelined Analog to Digital\n",
            "  Converters\n",
            "https://arxiv.org/abs/0710.4722\n",
            "\n",
            "\n",
            "Input Abstract: Neural network approaches for analyzing medical imaging data in radiology and disease diagnosis.\n",
            "\n",
            "Recommended Paper 1: QCD on the Cell Broadband Engine\n",
            "https://arxiv.org/abs/0710.2442\n",
            "\n",
            "Recommended Paper 2: Cross Comparison of Synonym Graphs in A Multi Linguistic Context\n",
            "https://arxiv.org/abs/0709.2476\n",
            "\n",
            "Recommended Paper 3: Thermal Benchmark and Power Benchmark Software\n",
            "https://arxiv.org/abs/0709.1834\n",
            "\n",
            "Recommended Paper 4: Narratives within immersive technologies\n",
            "https://arxiv.org/abs/0704.2542\n",
            "\n",
            "Recommended Paper 5: Designer-Driven Topology Optimization for Pipelined Analog to Digital\n",
            "  Converters\n",
            "https://arxiv.org/abs/0710.4722\n",
            "\n",
            "\n",
            "Input Abstract: Blockchain-based decentralized identity management systems for enhancing security and privacy.\n",
            "\n",
            "Recommended Paper 1: QCD on the Cell Broadband Engine\n",
            "https://arxiv.org/abs/0710.2442\n",
            "\n",
            "Recommended Paper 2: Cross Comparison of Synonym Graphs in A Multi Linguistic Context\n",
            "https://arxiv.org/abs/0709.2476\n",
            "\n",
            "Recommended Paper 3: Thermal Benchmark and Power Benchmark Software\n",
            "https://arxiv.org/abs/0709.1834\n",
            "\n",
            "Recommended Paper 4: Narratives within immersive technologies\n",
            "https://arxiv.org/abs/0704.2542\n",
            "\n",
            "Recommended Paper 5: Designer-Driven Topology Optimization for Pipelined Analog to Digital\n",
            "  Converters\n",
            "https://arxiv.org/abs/0710.4722\n",
            "\n",
            "\n",
            "Input Abstract: Advancements in reinforcement learning techniques for autonomous robotics and navigation.\n",
            "\n",
            "Recommended Paper 1: QCD on the Cell Broadband Engine\n",
            "https://arxiv.org/abs/0710.2442\n",
            "\n",
            "Recommended Paper 2: Cross Comparison of Synonym Graphs in A Multi Linguistic Context\n",
            "https://arxiv.org/abs/0709.2476\n",
            "\n",
            "Recommended Paper 3: Thermal Benchmark and Power Benchmark Software\n",
            "https://arxiv.org/abs/0709.1834\n",
            "\n",
            "Recommended Paper 4: Narratives within immersive technologies\n",
            "https://arxiv.org/abs/0704.2542\n",
            "\n",
            "Recommended Paper 5: Designer-Driven Topology Optimization for Pipelined Analog to Digital\n",
            "  Converters\n",
            "https://arxiv.org/abs/0710.4722\n",
            "\n",
            "\n",
            "Input Abstract: Ethical implications of artificial intelligence in decision-making and social policies.\n",
            "\n",
            "Recommended Paper 1: QCD on the Cell Broadband Engine\n",
            "https://arxiv.org/abs/0710.2442\n",
            "\n",
            "Recommended Paper 2: Cross Comparison of Synonym Graphs in A Multi Linguistic Context\n",
            "https://arxiv.org/abs/0709.2476\n",
            "\n",
            "Recommended Paper 3: Thermal Benchmark and Power Benchmark Software\n",
            "https://arxiv.org/abs/0709.1834\n",
            "\n",
            "Recommended Paper 4: Narratives within immersive technologies\n",
            "https://arxiv.org/abs/0704.2542\n",
            "\n",
            "Recommended Paper 5: Designer-Driven Topology Optimization for Pipelined Analog to Digital\n",
            "  Converters\n",
            "https://arxiv.org/abs/0710.4722\n",
            "\n",
            "\n",
            "Input Abstract: High-energy astrophysics and the study of black holes using gravitational wave observations.\n",
            "\n",
            "Recommended Paper 1: An Equilibrium Balance of the Universe\n",
            "https://arxiv.org/abs/0708.3577\n",
            "\n",
            "Recommended Paper 2: Modelling magnetically deformed neutron stars\n",
            "https://arxiv.org/abs/0705.178\n",
            "\n",
            "Recommended Paper 3: The local supermassive black hole mass density: corrections for\n",
            "  dependencies on the Hubble constant\n",
            "https://arxiv.org/abs/0705.4505\n",
            "\n",
            "Recommended Paper 4: Jets and Tori in Proto-Planetary Nebulae: Observations vs. Theory\n",
            "https://arxiv.org/abs/0709.3539\n",
            "\n",
            "Recommended Paper 5: Non-axisymmetric oscillations of differentially rotating relativistic\n",
            "  stars\n",
            "https://arxiv.org/abs/0706.0991\n",
            "\n"
          ]
        }
      ],
      "source": [
        "abstracts = [\n",
        "    \"Quantum computing algorithms for solving optimization problems in logistics and supply chain management.\",\n",
        "    \"Neural network approaches for analyzing medical imaging data in radiology and disease diagnosis.\",\n",
        "    \"Blockchain-based decentralized identity management systems for enhancing security and privacy.\",\n",
        "    \"Advancements in reinforcement learning techniques for autonomous robotics and navigation.\",\n",
        "    \"Ethical implications of artificial intelligence in decision-making and social policies.\",\n",
        "    \"High-energy astrophysics and the study of black holes using gravitational wave observations.\"\n",
        "]\n",
        "\n",
        "for abstract in abstracts:\n",
        "    print(f\"\\nInput Abstract: {abstract}\\n\")\n",
        "    recommended_papers = recommend_papers(abstract)\n",
        "    for i, (title, link) in enumerate(recommended_papers, 1):\n",
        "        print(f\"Recommended Paper {i}: {title}\\n{link}\\n\")"
      ]
    },
    {
      "cell_type": "code",
      "execution_count": null,
      "metadata": {
        "colab": {
          "base_uri": "https://localhost:8080/",
          "height": 52
        },
        "id": "56M8BxtSO-va",
        "outputId": "48c1dfea-d49f-4540-b748-18aced2fb653"
      },
      "outputs": [
        {
          "data": {
            "application/javascript": "\n    async function download(id, filename, size) {\n      if (!google.colab.kernel.accessAllowed) {\n        return;\n      }\n      const div = document.createElement('div');\n      const label = document.createElement('label');\n      label.textContent = `Downloading \"${filename}\": `;\n      div.appendChild(label);\n      const progress = document.createElement('progress');\n      progress.max = size;\n      div.appendChild(progress);\n      document.body.appendChild(div);\n\n      const buffers = [];\n      let downloaded = 0;\n\n      const channel = await google.colab.kernel.comms.open(id);\n      // Send a message to notify the kernel that we're ready.\n      channel.send({})\n\n      for await (const message of channel.messages) {\n        // Send a message to notify the kernel that we're ready.\n        channel.send({})\n        if (message.buffers) {\n          for (const buffer of message.buffers) {\n            buffers.push(buffer);\n            downloaded += buffer.byteLength;\n            progress.value = downloaded;\n          }\n        }\n      }\n      const blob = new Blob(buffers, {type: 'application/binary'});\n      const a = document.createElement('a');\n      a.href = window.URL.createObjectURL(blob);\n      a.download = filename;\n      div.appendChild(a);\n      a.click();\n      div.remove();\n    }\n  ",
            "text/plain": [
              "<IPython.core.display.Javascript object>"
            ]
          },
          "metadata": {},
          "output_type": "display_data"
        },
        {
          "data": {
            "application/javascript": "download(\"download_c66c4407-8467-4358-8dee-a8017b7e2e58\", \"clustered_arxiv_papers.csv\", 103391704)",
            "text/plain": [
              "<IPython.core.display.Javascript object>"
            ]
          },
          "metadata": {},
          "output_type": "display_data"
        },
        {
          "data": {
            "application/javascript": "\n    async function download(id, filename, size) {\n      if (!google.colab.kernel.accessAllowed) {\n        return;\n      }\n      const div = document.createElement('div');\n      const label = document.createElement('label');\n      label.textContent = `Downloading \"${filename}\": `;\n      div.appendChild(label);\n      const progress = document.createElement('progress');\n      progress.max = size;\n      div.appendChild(progress);\n      document.body.appendChild(div);\n\n      const buffers = [];\n      let downloaded = 0;\n\n      const channel = await google.colab.kernel.comms.open(id);\n      // Send a message to notify the kernel that we're ready.\n      channel.send({})\n\n      for await (const message of channel.messages) {\n        // Send a message to notify the kernel that we're ready.\n        channel.send({})\n        if (message.buffers) {\n          for (const buffer of message.buffers) {\n            buffers.push(buffer);\n            downloaded += buffer.byteLength;\n            progress.value = downloaded;\n          }\n        }\n      }\n      const blob = new Blob(buffers, {type: 'application/binary'});\n      const a = document.createElement('a');\n      a.href = window.URL.createObjectURL(blob);\n      a.download = filename;\n      div.appendChild(a);\n      a.click();\n      div.remove();\n    }\n  ",
            "text/plain": [
              "<IPython.core.display.Javascript object>"
            ]
          },
          "metadata": {},
          "output_type": "display_data"
        },
        {
          "data": {
            "application/javascript": "download(\"download_3416c3c9-b760-4d32-91b6-7a60d5ab4e56\", \"kmeans_model.pkl\", 507927)",
            "text/plain": [
              "<IPython.core.display.Javascript object>"
            ]
          },
          "metadata": {},
          "output_type": "display_data"
        }
      ],
      "source": [
        "from google.colab import files\n",
        "\n",
        "files.download('/content/clustered_arxiv_papers.csv')\n",
        "files.download('/content/kmeans_model.pkl')"
      ]
    },
    {
      "cell_type": "markdown",
      "metadata": {
        "id": "MZrLMnqSaDwi"
      },
      "source": [
        "## Metrics"
      ]
    },
    {
      "cell_type": "code",
      "execution_count": null,
      "metadata": {
        "id": "9OcTwgY2aFrb"
      },
      "outputs": [],
      "source": [
        "from sklearn.metrics.pairwise import cosine_similarity\n",
        "from sklearn.feature_extraction.text import TfidfVectorizer\n",
        "from transformers import TFAutoModel, AutoTokenizer"
      ]
    },
    {
      "cell_type": "code",
      "execution_count": null,
      "metadata": {
        "colab": {
          "base_uri": "https://localhost:8080/"
        },
        "id": "sUxComeXaItQ",
        "outputId": "fb792f29-f8d6-4773-c712-ffa0f700dad4"
      },
      "outputs": [
        {
          "name": "stdout",
          "output_type": "stream",
          "text": [
            "Warning: 'citations' column not found. Co-citation metric will not be computed.\n"
          ]
        }
      ],
      "source": [
        "cosine_sim_matrix = cosine_similarity(embeddings)\n",
        "\n",
        "tfidf = TfidfVectorizer(stop_words='english')\n",
        "tfidf_matrix = tfidf.fit_transform(df['abstract'].fillna(\"\"))\n",
        "tfidf_sim_matrix = cosine_similarity(tfidf_matrix)\n",
        "\n",
        "if 'citations' in df.columns:\n",
        "    df['citation_count'] = df['citations'].fillna(0).astype(int)\n",
        "    co_citation_matrix = cosine_similarity(df[['citation_count']])\n",
        "else:\n",
        "    print(\"Warning: 'citations' column not found. Co-citation metric will not be computed.\")\n",
        "    co_citation_matrix = None"
      ]
    },
    {
      "cell_type": "code",
      "execution_count": null,
      "metadata": {
        "colab": {
          "base_uri": "https://localhost:8080/"
        },
        "id": "efWBlMJufcKn",
        "outputId": "bfdcd44e-2bb9-41a2-eb77-aaea6e5e9857"
      },
      "outputs": [
        {
          "name": "stdout",
          "output_type": "stream",
          "text": [
            "\n",
            "Similarity Metrics Computed:\n",
            "Cosine Similarity Matrix Shape: (10000, 10000)\n",
            "TF-IDF Similarity Matrix Shape: (10000, 10000)\n",
            "Total Papers Processed: 10000\n",
            "Number of Clusters: 50\n",
            "Cluster Distribution: cluster\n",
            "19    328\n",
            "8     299\n",
            "41    298\n",
            "0     274\n",
            "15    263\n",
            "26    263\n",
            "44    254\n",
            "9     253\n",
            "32    248\n",
            "29    247\n",
            "16    244\n",
            "14    242\n",
            "42    240\n",
            "23    234\n",
            "39    232\n",
            "35    226\n",
            "46    225\n",
            "37    218\n",
            "21    217\n",
            "12    212\n",
            "38    205\n",
            "1     204\n",
            "2     203\n",
            "28    202\n",
            "34    202\n",
            "6     196\n",
            "47    195\n",
            "49    189\n",
            "13    189\n",
            "24    184\n",
            "25    182\n",
            "5     179\n",
            "36    175\n",
            "4     174\n",
            "45    171\n",
            "22    170\n",
            "27    169\n",
            "3     165\n",
            "48    163\n",
            "20    160\n",
            "31    159\n",
            "33    157\n",
            "30    150\n",
            "11    142\n",
            "17    141\n",
            "40    137\n",
            "18    125\n",
            "7     122\n",
            "43    100\n",
            "10     73\n",
            "Name: count, dtype: int64\n"
          ]
        }
      ],
      "source": [
        "print(\"\\nSimilarity Metrics Computed:\")\n",
        "print(\"Cosine Similarity Matrix Shape:\", cosine_sim_matrix.shape)\n",
        "print(\"TF-IDF Similarity Matrix Shape:\", tfidf_sim_matrix.shape)\n",
        "if co_citation_matrix is not None:\n",
        "    print(\"Co-Citation Matrix Shape:\", co_citation_matrix.shape)\n",
        "\n",
        "print(\"Total Papers Processed:\", len(df))\n",
        "print(\"Number of Clusters:\", num_clusters)\n",
        "print(\"Cluster Distribution:\", df['cluster'].value_counts())"
      ]
    },
    {
      "cell_type": "code",
      "execution_count": null,
      "metadata": {
        "id": "2sQBD4UAiJ-H"
      },
      "outputs": [],
      "source": [
        "from sklearn.decomposition import TruncatedSVD\n",
        "from sklearn.preprocessing import normalize\n",
        "\n",
        "embeddings = normalize(embeddings, norm='l2')\n",
        "cosine_sim_matrix = cosine_similarity(embeddings)\n",
        "\n",
        "svd = TruncatedSVD(n_components=300)\n",
        "reduced_cos = svd.fit_transform(cosine_sim_matrix)\n",
        "cosine_sim_matrix = cosine_similarity(reduced_cos)"
      ]
    },
    {
      "cell_type": "code",
      "execution_count": null,
      "metadata": {
        "colab": {
          "base_uri": "https://localhost:8080/"
        },
        "id": "2w4bmcRYou0U",
        "outputId": "5c025284-8b34-4f5c-8c72-a2f4c9780b51"
      },
      "outputs": [
        {
          "name": "stdout",
          "output_type": "stream",
          "text": [
            "\n",
            "First 10 Entries of Cosine Similarity Matrix:\n",
            "[[1.         0.99867667 0.99941558 0.99713098 0.99685264 0.99946509\n",
            "  0.99939853 0.99912468 0.99685495 0.99838385]\n",
            " [0.99867667 1.         0.99929352 0.99862416 0.99873467 0.99923267\n",
            "  0.99937021 0.99945228 0.99539632 0.99977108]\n",
            " [0.99941558 0.99929352 1.         0.99830063 0.99808657 0.9995687\n",
            "  0.9994735  0.99967696 0.99632233 0.9991602 ]\n",
            " [0.99713098 0.99862416 0.99830063 1.         0.99952383 0.99835927\n",
            "  0.99849886 0.99870682 0.99044363 0.9993434 ]\n",
            " [0.99685264 0.99873467 0.99808657 0.99952383 1.         0.99827169\n",
            "  0.99820307 0.99834454 0.99071639 0.99930418]\n",
            " [0.99946509 0.99923267 0.9995687  0.99835927 0.99827169 1.\n",
            "  0.9997655  0.99964308 0.9952319  0.99923949]\n",
            " [0.99939853 0.99937021 0.9994735  0.99849886 0.99820307 0.9997655\n",
            "  1.         0.99966876 0.99509393 0.99942501]\n",
            " [0.99912468 0.99945228 0.99967696 0.99870682 0.99834454 0.99964308\n",
            "  0.99966876 1.         0.99513022 0.99949799]\n",
            " [0.99685495 0.99539632 0.99632233 0.99044363 0.99071639 0.9952319\n",
            "  0.99509393 0.99513022 1.         0.99378408]\n",
            " [0.99838385 0.99977108 0.9991602  0.9993434  0.99930418 0.99923949\n",
            "  0.99942501 0.99949799 0.99378408 1.        ]]\n"
          ]
        }
      ],
      "source": [
        "print(\"\\nFirst 10 Entries of Cosine Similarity Matrix:\")\n",
        "print(cosine_sim_matrix[:10, :10])"
      ]
    },
    {
      "cell_type": "code",
      "execution_count": null,
      "metadata": {
        "colab": {
          "base_uri": "https://localhost:8080/"
        },
        "id": "eSxuzg3WlJeU",
        "outputId": "cfe79147-f45c-4d46-c80b-8c0ceb15330b"
      },
      "outputs": [
        {
          "name": "stdout",
          "output_type": "stream",
          "text": [
            "Top TF-IDF words: ['aa' 'aab' 'aac' 'aadl' 'aaomega' 'aarseth' 'aas' 'aassumptions' 'aat'\n",
            " 'ab' 'abandon' 'abandoned' 'abba' 'abbott' 'abbreviated' 'abbreviation'\n",
            " 'abc' 'abcd' 'abe' 'abel']\n"
          ]
        }
      ],
      "source": [
        "tfidf = TfidfVectorizer(stop_words='english', token_pattern=r'(?u)\\b[a-zA-Z]{2,}\\b')\n",
        "tfidf_matrix = tfidf.fit_transform(df['abstract_cleaned'])\n",
        "\n",
        "print(\"Top TF-IDF words:\", tfidf.get_feature_names_out()[:20])"
      ]
    },
    {
      "cell_type": "code",
      "execution_count": null,
      "metadata": {
        "colab": {
          "base_uri": "https://localhost:8080/",
          "height": 1000
        },
        "id": "gcyDet9woGLs",
        "outputId": "948ea512-01d3-4ecf-de83-e5e8d803b25d"
      },
      "outputs": [
        {
          "name": "stdout",
          "output_type": "stream",
          "text": [
            "\n",
            "Visualizing Similarity Matrices:\n"
          ]
        },
        {
          "data": {
            "image/png": "[encoded data removed]",
            "text/plain": [
              "<Figure size 1000x800 with 2 Axes>"
            ]
          },
          "metadata": {},
          "output_type": "display_data"
        },
        {
          "data": {
            "image/png": "[encoded data removed]",
            "text/plain": [
              "<Figure size 1000x800 with 2 Axes>"
            ]
          },
          "metadata": {},
          "output_type": "display_data"
        },
        {
          "data": {
            "image/png": "[encoded data removed]",
            "text/plain": [
              "<Figure size 1200x600 with 1 Axes>"
            ]
          },
          "metadata": {},
          "output_type": "display_data"
        }
      ],
      "source": [
        "from matplotlib import pyplot as plt\n",
        "import seaborn as sns\n",
        "\n",
        "def plot_similarity_matrix(matrix, title):\n",
        "    plt.figure(figsize=(10, 8))\n",
        "    sns.heatmap(matrix[:50, :50], cmap=\"coolwarm\", annot=False)\n",
        "    plt.title(title)\n",
        "    plt.show()\n",
        "\n",
        "print(\"\\nVisualizing Similarity Matrices:\")\n",
        "plot_similarity_matrix(cosine_sim_matrix, \"Cosine Similarity Heatmap\")\n",
        "plot_similarity_matrix(tfidf_sim_matrix, \"TF-IDF Similarity Heatmap\")\n",
        "\n",
        "plt.figure(figsize=(12, 6))\n",
        "sns.histplot(df['cluster'], bins=num_clusters, kde=False)\n",
        "plt.xlabel(\"Cluster\")\n",
        "plt.ylabel(\"Number of Papers\")\n",
        "plt.title(\"Cluster Distribution of Papers\")\n",
        "plt.show()"
      ]
    },
    {
      "cell_type": "code",
      "execution_count": null,
      "metadata": {
        "colab": {
          "base_uri": "https://localhost:8080/",
          "height": 739
        },
        "id": "z_dp4MDDoITd",
        "outputId": "4382fa2b-6da4-43af-a2a0-0ddb6cb1fd0d"
      },
      "outputs": [
        {
          "name": "stderr",
          "output_type": "stream",
          "text": [
            "<ipython-input-20-49d74a9967ce>:5: FutureWarning: \n",
            "\n",
            "Passing `palette` without assigning `hue` is deprecated and will be removed in v0.14.0. Assign the `x` variable to `hue` and set `legend=False` for the same effect.\n",
            "\n",
            "  sns.barplot(x=top_words, y=idf_values, palette=\"viridis\")\n"
          ]
        },
        {
          "data": {
            "image/png": "[encoded data removed]",
            "text/plain": [
              "<Figure size 1200x600 with 1 Axes>"
            ]
          },
          "metadata": {},
          "output_type": "display_data"
        }
      ],
      "source": [
        "top_words = np.array(tfidf.get_feature_names_out())[:10]\n",
        "idf_values = np.sort(tfidf.idf_)[:10]\n",
        "\n",
        "plt.figure(figsize=(12, 6))\n",
        "sns.barplot(x=top_words, y=idf_values, palette=\"viridis\")\n",
        "plt.xlabel(\"Word\")\n",
        "plt.ylabel(\"TF-IDF Value\")\n",
        "plt.title(\"Top 10 TF-IDF Words\")\n",
        "plt.xticks(rotation=45)\n",
        "plt.show()"
      ]
    }
  ],
  "metadata": {
    "accelerator": "GPU",
    "colab": {
      "gpuType": "T4",
      "provenance": []
    },
    "kernelspec": {
      "display_name": "Python 3",
      "name": "python3"
    },
    "language_info": {
      "name": "python"
    },
    "widgets": {
      "application/vnd.jupyter.widget-state+json": {
        "0f1a17a0b3fc403daef3c267bf27873a": {
          "model_module": "@jupyter-widgets/controls",
          "model_module_version": "1.5.0",
          "model_name": "HBoxModel",
          "state": {
            "_dom_classes": [],
            "_model_module": "@jupyter-widgets/controls",
            "_model_module_version": "1.5.0",
            "_model_name": "HBoxModel",
            "_view_count": null,
            "_view_module": "@jupyter-widgets/controls",
            "_view_module_version": "1.5.0",
            "_view_name": "HBoxView",
            "box_style": "",
            "children": [
              "IPY_MODEL_1baac627bb514be59e7cde79d8d446a1",
              "IPY_MODEL_c44e85cec9954993b23eaf5e16601b0b",
              "IPY_MODEL_bafe050952aa4aefa1316069ab88e2a1"
            ],
            "layout": "IPY_MODEL_4610d695f94b44bdb8511771fcb844d1"
          }
        },
        "190e96a7fe5d448587eaae78140a0761": {
          "model_module": "@jupyter-widgets/controls",
          "model_module_version": "1.5.0",
          "model_name": "HTMLModel",
          "state": {
            "_dom_classes": [],
            "_model_module": "@jupyter-widgets/controls",
            "_model_module_version": "1.5.0",
            "_model_name": "HTMLModel",
            "_view_count": null,
            "_view_module": "@jupyter-widgets/controls",
            "_view_module_version": "1.5.0",
            "_view_name": "HTMLView",
            "description": "",
            "description_tooltip": null,
            "layout": "IPY_MODEL_f25ca71bd7ce43beb4fe9d28216d7b5a",
            "placeholder": "​",
            "style": "IPY_MODEL_6c2f7026d3f745fb8fac556839d39d3a",
            "value": "vocab.txt: 100%"
          }
        },
        "1baac627bb514be59e7cde79d8d446a1": {
          "model_module": "@jupyter-widgets/controls",
          "model_module_version": "1.5.0",
          "model_name": "HTMLModel",
          "state": {
            "_dom_classes": [],
            "_model_module": "@jupyter-widgets/controls",
            "_model_module_version": "1.5.0",
            "_model_name": "HTMLModel",
            "_view_count": null,
            "_view_module": "@jupyter-widgets/controls",
            "_view_module_version": "1.5.0",
            "_view_name": "HTMLView",
            "description": "",
            "description_tooltip": null,
            "layout": "IPY_MODEL_3a19677ce734490d8c548c272e9c0cdf",
            "placeholder": "​",
            "style": "IPY_MODEL_afe8b6fb5a314f00bcd1cdb795da28a1",
            "value": "pytorch_model.bin: 100%"
          }
        },
        "23ebcb5d067543e0a794d1abcc3b3ab9": {
          "model_module": "@jupyter-widgets/controls",
          "model_module_version": "1.5.0",
          "model_name": "DescriptionStyleModel",
          "state": {
            "_model_module": "@jupyter-widgets/controls",
            "_model_module_version": "1.5.0",
            "_model_name": "DescriptionStyleModel",
            "_view_count": null,
            "_view_module": "@jupyter-widgets/base",
            "_view_module_version": "1.2.0",
            "_view_name": "StyleView",
            "description_width": ""
          }
        },
        "263d2b6dff444643b22fe37b1033bbbc": {
          "model_module": "@jupyter-widgets/controls",
          "model_module_version": "1.5.0",
          "model_name": "ProgressStyleModel",
          "state": {
            "_model_module": "@jupyter-widgets/controls",
            "_model_module_version": "1.5.0",
            "_model_name": "ProgressStyleModel",
            "_view_count": null,
            "_view_module": "@jupyter-widgets/base",
            "_view_module_version": "1.2.0",
            "_view_name": "StyleView",
            "bar_color": null,
            "description_width": ""
          }
        },
        "378460dcc5b04fbfb9c50e8defdcbb37": {
          "model_module": "@jupyter-widgets/base",
          "model_module_version": "1.2.0",
          "model_name": "LayoutModel",
          "state": {
            "_model_module": "@jupyter-widgets/base",
            "_model_module_version": "1.2.0",
            "_model_name": "LayoutModel",
            "_view_count": null,
            "_view_module": "@jupyter-widgets/base",
            "_view_module_version": "1.2.0",
            "_view_name": "LayoutView",
            "align_content": null,
            "align_items": null,
            "align_self": null,
            "border": null,
            "bottom": null,
            "display": null,
            "flex": null,
            "flex_flow": null,
            "grid_area": null,
            "grid_auto_columns": null,
            "grid_auto_flow": null,
            "grid_auto_rows": null,
            "grid_column": null,
            "grid_gap": null,
            "grid_row": null,
            "grid_template_areas": null,
            "grid_template_columns": null,
            "grid_template_rows": null,
            "height": null,
            "justify_content": null,
            "justify_items": null,
            "left": null,
            "margin": null,
            "max_height": null,
            "max_width": null,
            "min_height": null,
            "min_width": null,
            "object_fit": null,
            "object_position": null,
            "order": null,
            "overflow": null,
            "overflow_x": null,
            "overflow_y": null,
            "padding": null,
            "right": null,
            "top": null,
            "visibility": null,
            "width": null
          }
        },
        "3a19677ce734490d8c548c272e9c0cdf": {
          "model_module": "@jupyter-widgets/base",
          "model_module_version": "1.2.0",
          "model_name": "LayoutModel",
          "state": {
            "_model_module": "@jupyter-widgets/base",
            "_model_module_version": "1.2.0",
            "_model_name": "LayoutModel",
            "_view_count": null,
            "_view_module": "@jupyter-widgets/base",
            "_view_module_version": "1.2.0",
            "_view_name": "LayoutView",
            "align_content": null,
            "align_items": null,
            "align_self": null,
            "border": null,
            "bottom": null,
            "display": null,
            "flex": null,
            "flex_flow": null,
            "grid_area": null,
            "grid_auto_columns": null,
            "grid_auto_flow": null,
            "grid_auto_rows": null,
            "grid_column": null,
            "grid_gap": null,
            "grid_row": null,
            "grid_template_areas": null,
            "grid_template_columns": null,
            "grid_template_rows": null,
            "height": null,
            "justify_content": null,
            "justify_items": null,
            "left": null,
            "margin": null,
            "max_height": null,
            "max_width": null,
            "min_height": null,
            "min_width": null,
            "object_fit": null,
            "object_position": null,
            "order": null,
            "overflow": null,
            "overflow_x": null,
            "overflow_y": null,
            "padding": null,
            "right": null,
            "top": null,
            "visibility": null,
            "width": null
          }
        },
        "43a85598d3d14058a5524ff84743ab3f": {
          "model_module": "@jupyter-widgets/controls",
          "model_module_version": "1.5.0",
          "model_name": "HBoxModel",
          "state": {
            "_dom_classes": [],
            "_model_module": "@jupyter-widgets/controls",
            "_model_module_version": "1.5.0",
            "_model_name": "HBoxModel",
            "_view_count": null,
            "_view_module": "@jupyter-widgets/controls",
            "_view_module_version": "1.5.0",
            "_view_name": "HBoxView",
            "box_style": "",
            "children": [
              "IPY_MODEL_190e96a7fe5d448587eaae78140a0761",
              "IPY_MODEL_7385a958bb5b4a8fb9b1947b9d866bd2",
              "IPY_MODEL_e9c1926355064c73a43b2a97dba47de9"
            ],
            "layout": "IPY_MODEL_90b8a052a7aa4a609f89e8c92dffa6ac"
          }
        },
        "44bd127536334425b4e44fc58fdb9a8c": {
          "model_module": "@jupyter-widgets/base",
          "model_module_version": "1.2.0",
          "model_name": "LayoutModel",
          "state": {
            "_model_module": "@jupyter-widgets/base",
            "_model_module_version": "1.2.0",
            "_model_name": "LayoutModel",
            "_view_count": null,
            "_view_module": "@jupyter-widgets/base",
            "_view_module_version": "1.2.0",
            "_view_name": "LayoutView",
            "align_content": null,
            "align_items": null,
            "align_self": null,
            "border": null,
            "bottom": null,
            "display": null,
            "flex": null,
            "flex_flow": null,
            "grid_area": null,
            "grid_auto_columns": null,
            "grid_auto_flow": null,
            "grid_auto_rows": null,
            "grid_column": null,
            "grid_gap": null,
            "grid_row": null,
            "grid_template_areas": null,
            "grid_template_columns": null,
            "grid_template_rows": null,
            "height": null,
            "justify_content": null,
            "justify_items": null,
            "left": null,
            "margin": null,
            "max_height": null,
            "max_width": null,
            "min_height": null,
            "min_width": null,
            "object_fit": null,
            "object_position": null,
            "order": null,
            "overflow": null,
            "overflow_x": null,
            "overflow_y": null,
            "padding": null,
            "right": null,
            "top": null,
            "visibility": null,
            "width": null
          }
        },
        "4610d695f94b44bdb8511771fcb844d1": {
          "model_module": "@jupyter-widgets/base",
          "model_module_version": "1.2.0",
          "model_name": "LayoutModel",
          "state": {
            "_model_module": "@jupyter-widgets/base",
            "_model_module_version": "1.2.0",
            "_model_name": "LayoutModel",
            "_view_count": null,
            "_view_module": "@jupyter-widgets/base",
            "_view_module_version": "1.2.0",
            "_view_name": "LayoutView",
            "align_content": null,
            "align_items": null,
            "align_self": null,
            "border": null,
            "bottom": null,
            "display": null,
            "flex": null,
            "flex_flow": null,
            "grid_area": null,
            "grid_auto_columns": null,
            "grid_auto_flow": null,
            "grid_auto_rows": null,
            "grid_column": null,
            "grid_gap": null,
            "grid_row": null,
            "grid_template_areas": null,
            "grid_template_columns": null,
            "grid_template_rows": null,
            "height": null,
            "justify_content": null,
            "justify_items": null,
            "left": null,
            "margin": null,
            "max_height": null,
            "max_width": null,
            "min_height": null,
            "min_width": null,
            "object_fit": null,
            "object_position": null,
            "order": null,
            "overflow": null,
            "overflow_x": null,
            "overflow_y": null,
            "padding": null,
            "right": null,
            "top": null,
            "visibility": null,
            "width": null
          }
        },
        "6796033d226540f288db21947b06fa82": {
          "model_module": "@jupyter-widgets/base",
          "model_module_version": "1.2.0",
          "model_name": "LayoutModel",
          "state": {
            "_model_module": "@jupyter-widgets/base",
            "_model_module_version": "1.2.0",
            "_model_name": "LayoutModel",
            "_view_count": null,
            "_view_module": "@jupyter-widgets/base",
            "_view_module_version": "1.2.0",
            "_view_name": "LayoutView",
            "align_content": null,
            "align_items": null,
            "align_self": null,
            "border": null,
            "bottom": null,
            "display": null,
            "flex": null,
            "flex_flow": null,
            "grid_area": null,
            "grid_auto_columns": null,
            "grid_auto_flow": null,
            "grid_auto_rows": null,
            "grid_column": null,
            "grid_gap": null,
            "grid_row": null,
            "grid_template_areas": null,
            "grid_template_columns": null,
            "grid_template_rows": null,
            "height": null,
            "justify_content": null,
            "justify_items": null,
            "left": null,
            "margin": null,
            "max_height": null,
            "max_width": null,
            "min_height": null,
            "min_width": null,
            "object_fit": null,
            "object_position": null,
            "order": null,
            "overflow": null,
            "overflow_x": null,
            "overflow_y": null,
            "padding": null,
            "right": null,
            "top": null,
            "visibility": null,
            "width": null
          }
        },
        "6c0aba26ec4d42e7b9f16e6ca4a75254": {
          "model_module": "@jupyter-widgets/base",
          "model_module_version": "1.2.0",
          "model_name": "LayoutModel",
          "state": {
            "_model_module": "@jupyter-widgets/base",
            "_model_module_version": "1.2.0",
            "_model_name": "LayoutModel",
            "_view_count": null,
            "_view_module": "@jupyter-widgets/base",
            "_view_module_version": "1.2.0",
            "_view_name": "LayoutView",
            "align_content": null,
            "align_items": null,
            "align_self": null,
            "border": null,
            "bottom": null,
            "display": null,
            "flex": null,
            "flex_flow": null,
            "grid_area": null,
            "grid_auto_columns": null,
            "grid_auto_flow": null,
            "grid_auto_rows": null,
            "grid_column": null,
            "grid_gap": null,
            "grid_row": null,
            "grid_template_areas": null,
            "grid_template_columns": null,
            "grid_template_rows": null,
            "height": null,
            "justify_content": null,
            "justify_items": null,
            "left": null,
            "margin": null,
            "max_height": null,
            "max_width": null,
            "min_height": null,
            "min_width": null,
            "object_fit": null,
            "object_position": null,
            "order": null,
            "overflow": null,
            "overflow_x": null,
            "overflow_y": null,
            "padding": null,
            "right": null,
            "top": null,
            "visibility": null,
            "width": null
          }
        },
        "6c2f7026d3f745fb8fac556839d39d3a": {
          "model_module": "@jupyter-widgets/controls",
          "model_module_version": "1.5.0",
          "model_name": "DescriptionStyleModel",
          "state": {
            "_model_module": "@jupyter-widgets/controls",
            "_model_module_version": "1.5.0",
            "_model_name": "DescriptionStyleModel",
            "_view_count": null,
            "_view_module": "@jupyter-widgets/base",
            "_view_module_version": "1.2.0",
            "_view_name": "StyleView",
            "description_width": ""
          }
        },
        "6fd8df7f1e1940e09fe69ed2785ff466": {
          "model_module": "@jupyter-widgets/base",
          "model_module_version": "1.2.0",
          "model_name": "LayoutModel",
          "state": {
            "_model_module": "@jupyter-widgets/base",
            "_model_module_version": "1.2.0",
            "_model_name": "LayoutModel",
            "_view_count": null,
            "_view_module": "@jupyter-widgets/base",
            "_view_module_version": "1.2.0",
            "_view_name": "LayoutView",
            "align_content": null,
            "align_items": null,
            "align_self": null,
            "border": null,
            "bottom": null,
            "display": null,
            "flex": null,
            "flex_flow": null,
            "grid_area": null,
            "grid_auto_columns": null,
            "grid_auto_flow": null,
            "grid_auto_rows": null,
            "grid_column": null,
            "grid_gap": null,
            "grid_row": null,
            "grid_template_areas": null,
            "grid_template_columns": null,
            "grid_template_rows": null,
            "height": null,
            "justify_content": null,
            "justify_items": null,
            "left": null,
            "margin": null,
            "max_height": null,
            "max_width": null,
            "min_height": null,
            "min_width": null,
            "object_fit": null,
            "object_position": null,
            "order": null,
            "overflow": null,
            "overflow_x": null,
            "overflow_y": null,
            "padding": null,
            "right": null,
            "top": null,
            "visibility": null,
            "width": null
          }
        },
        "7385a958bb5b4a8fb9b1947b9d866bd2": {
          "model_module": "@jupyter-widgets/controls",
          "model_module_version": "1.5.0",
          "model_name": "FloatProgressModel",
          "state": {
            "_dom_classes": [],
            "_model_module": "@jupyter-widgets/controls",
            "_model_module_version": "1.5.0",
            "_model_name": "FloatProgressModel",
            "_view_count": null,
            "_view_module": "@jupyter-widgets/controls",
            "_view_module_version": "1.5.0",
            "_view_name": "ProgressView",
            "bar_style": "success",
            "description": "",
            "description_tooltip": null,
            "layout": "IPY_MODEL_6796033d226540f288db21947b06fa82",
            "max": 227845,
            "min": 0,
            "orientation": "horizontal",
            "style": "IPY_MODEL_ea60b611beea4c5e8cf467894579a761",
            "value": 227845
          }
        },
        "83d93660879b4a468c0573921267b506": {
          "model_module": "@jupyter-widgets/controls",
          "model_module_version": "1.5.0",
          "model_name": "HBoxModel",
          "state": {
            "_dom_classes": [],
            "_model_module": "@jupyter-widgets/controls",
            "_model_module_version": "1.5.0",
            "_model_name": "HBoxModel",
            "_view_count": null,
            "_view_module": "@jupyter-widgets/controls",
            "_view_module_version": "1.5.0",
            "_view_name": "HBoxView",
            "box_style": "",
            "children": [
              "IPY_MODEL_e6d59633a26f4a0d9c97e19816af0c6e",
              "IPY_MODEL_c63add04c74e47e19a1193090a2d2d9e",
              "IPY_MODEL_aa7504fe21974baf97541d39aee3bfd3"
            ],
            "layout": "IPY_MODEL_6c0aba26ec4d42e7b9f16e6ca4a75254"
          }
        },
        "84a704efb0b9482eb00cbf128e755ffe": {
          "model_module": "@jupyter-widgets/controls",
          "model_module_version": "1.5.0",
          "model_name": "DescriptionStyleModel",
          "state": {
            "_model_module": "@jupyter-widgets/controls",
            "_model_module_version": "1.5.0",
            "_model_name": "DescriptionStyleModel",
            "_view_count": null,
            "_view_module": "@jupyter-widgets/base",
            "_view_module_version": "1.2.0",
            "_view_name": "StyleView",
            "description_width": ""
          }
        },
        "8f59fc4122d2494887fc1e4f92a37a1a": {
          "model_module": "@jupyter-widgets/base",
          "model_module_version": "1.2.0",
          "model_name": "LayoutModel",
          "state": {
            "_model_module": "@jupyter-widgets/base",
            "_model_module_version": "1.2.0",
            "_model_name": "LayoutModel",
            "_view_count": null,
            "_view_module": "@jupyter-widgets/base",
            "_view_module_version": "1.2.0",
            "_view_name": "LayoutView",
            "align_content": null,
            "align_items": null,
            "align_self": null,
            "border": null,
            "bottom": null,
            "display": null,
            "flex": null,
            "flex_flow": null,
            "grid_area": null,
            "grid_auto_columns": null,
            "grid_auto_flow": null,
            "grid_auto_rows": null,
            "grid_column": null,
            "grid_gap": null,
            "grid_row": null,
            "grid_template_areas": null,
            "grid_template_columns": null,
            "grid_template_rows": null,
            "height": null,
            "justify_content": null,
            "justify_items": null,
            "left": null,
            "margin": null,
            "max_height": null,
            "max_width": null,
            "min_height": null,
            "min_width": null,
            "object_fit": null,
            "object_position": null,
            "order": null,
            "overflow": null,
            "overflow_x": null,
            "overflow_y": null,
            "padding": null,
            "right": null,
            "top": null,
            "visibility": null,
            "width": null
          }
        },
        "90b8a052a7aa4a609f89e8c92dffa6ac": {
          "model_module": "@jupyter-widgets/base",
          "model_module_version": "1.2.0",
          "model_name": "LayoutModel",
          "state": {
            "_model_module": "@jupyter-widgets/base",
            "_model_module_version": "1.2.0",
            "_model_name": "LayoutModel",
            "_view_count": null,
            "_view_module": "@jupyter-widgets/base",
            "_view_module_version": "1.2.0",
            "_view_name": "LayoutView",
            "align_content": null,
            "align_items": null,
            "align_self": null,
            "border": null,
            "bottom": null,
            "display": null,
            "flex": null,
            "flex_flow": null,
            "grid_area": null,
            "grid_auto_columns": null,
            "grid_auto_flow": null,
            "grid_auto_rows": null,
            "grid_column": null,
            "grid_gap": null,
            "grid_row": null,
            "grid_template_areas": null,
            "grid_template_columns": null,
            "grid_template_rows": null,
            "height": null,
            "justify_content": null,
            "justify_items": null,
            "left": null,
            "margin": null,
            "max_height": null,
            "max_width": null,
            "min_height": null,
            "min_width": null,
            "object_fit": null,
            "object_position": null,
            "order": null,
            "overflow": null,
            "overflow_x": null,
            "overflow_y": null,
            "padding": null,
            "right": null,
            "top": null,
            "visibility": null,
            "width": null
          }
        },
        "9c93d6e987b346a4abcb774c97fd59e6": {
          "model_module": "@jupyter-widgets/base",
          "model_module_version": "1.2.0",
          "model_name": "LayoutModel",
          "state": {
            "_model_module": "@jupyter-widgets/base",
            "_model_module_version": "1.2.0",
            "_model_name": "LayoutModel",
            "_view_count": null,
            "_view_module": "@jupyter-widgets/base",
            "_view_module_version": "1.2.0",
            "_view_name": "LayoutView",
            "align_content": null,
            "align_items": null,
            "align_self": null,
            "border": null,
            "bottom": null,
            "display": null,
            "flex": null,
            "flex_flow": null,
            "grid_area": null,
            "grid_auto_columns": null,
            "grid_auto_flow": null,
            "grid_auto_rows": null,
            "grid_column": null,
            "grid_gap": null,
            "grid_row": null,
            "grid_template_areas": null,
            "grid_template_columns": null,
            "grid_template_rows": null,
            "height": null,
            "justify_content": null,
            "justify_items": null,
            "left": null,
            "margin": null,
            "max_height": null,
            "max_width": null,
            "min_height": null,
            "min_width": null,
            "object_fit": null,
            "object_position": null,
            "order": null,
            "overflow": null,
            "overflow_x": null,
            "overflow_y": null,
            "padding": null,
            "right": null,
            "top": null,
            "visibility": null,
            "width": null
          }
        },
        "a4a6aaf80a3945ebb587cf2a5c33aed7": {
          "model_module": "@jupyter-widgets/base",
          "model_module_version": "1.2.0",
          "model_name": "LayoutModel",
          "state": {
            "_model_module": "@jupyter-widgets/base",
            "_model_module_version": "1.2.0",
            "_model_name": "LayoutModel",
            "_view_count": null,
            "_view_module": "@jupyter-widgets/base",
            "_view_module_version": "1.2.0",
            "_view_name": "LayoutView",
            "align_content": null,
            "align_items": null,
            "align_self": null,
            "border": null,
            "bottom": null,
            "display": null,
            "flex": null,
            "flex_flow": null,
            "grid_area": null,
            "grid_auto_columns": null,
            "grid_auto_flow": null,
            "grid_auto_rows": null,
            "grid_column": null,
            "grid_gap": null,
            "grid_row": null,
            "grid_template_areas": null,
            "grid_template_columns": null,
            "grid_template_rows": null,
            "height": null,
            "justify_content": null,
            "justify_items": null,
            "left": null,
            "margin": null,
            "max_height": null,
            "max_width": null,
            "min_height": null,
            "min_width": null,
            "object_fit": null,
            "object_position": null,
            "order": null,
            "overflow": null,
            "overflow_x": null,
            "overflow_y": null,
            "padding": null,
            "right": null,
            "top": null,
            "visibility": null,
            "width": null
          }
        },
        "aa7504fe21974baf97541d39aee3bfd3": {
          "model_module": "@jupyter-widgets/controls",
          "model_module_version": "1.5.0",
          "model_name": "HTMLModel",
          "state": {
            "_dom_classes": [],
            "_model_module": "@jupyter-widgets/controls",
            "_model_module_version": "1.5.0",
            "_model_name": "HTMLModel",
            "_view_count": null,
            "_view_module": "@jupyter-widgets/controls",
            "_view_module_version": "1.5.0",
            "_view_name": "HTMLView",
            "description": "",
            "description_tooltip": null,
            "layout": "IPY_MODEL_9c93d6e987b346a4abcb774c97fd59e6",
            "placeholder": "​",
            "style": "IPY_MODEL_fffafff031364b5293a17bb2d6239c9e",
            "value": " 385/385 [00:00&lt;00:00, 21.2kB/s]"
          }
        },
        "afe8b6fb5a314f00bcd1cdb795da28a1": {
          "model_module": "@jupyter-widgets/controls",
          "model_module_version": "1.5.0",
          "model_name": "DescriptionStyleModel",
          "state": {
            "_model_module": "@jupyter-widgets/controls",
            "_model_module_version": "1.5.0",
            "_model_name": "DescriptionStyleModel",
            "_view_count": null,
            "_view_module": "@jupyter-widgets/base",
            "_view_module_version": "1.2.0",
            "_view_name": "StyleView",
            "description_width": ""
          }
        },
        "bafe050952aa4aefa1316069ab88e2a1": {
          "model_module": "@jupyter-widgets/controls",
          "model_module_version": "1.5.0",
          "model_name": "HTMLModel",
          "state": {
            "_dom_classes": [],
            "_model_module": "@jupyter-widgets/controls",
            "_model_module_version": "1.5.0",
            "_model_name": "HTMLModel",
            "_view_count": null,
            "_view_module": "@jupyter-widgets/controls",
            "_view_module_version": "1.5.0",
            "_view_name": "HTMLView",
            "description": "",
            "description_tooltip": null,
            "layout": "IPY_MODEL_a4a6aaf80a3945ebb587cf2a5c33aed7",
            "placeholder": "​",
            "style": "IPY_MODEL_84a704efb0b9482eb00cbf128e755ffe",
            "value": " 442M/442M [00:02&lt;00:00, 237MB/s]"
          }
        },
        "c44e85cec9954993b23eaf5e16601b0b": {
          "model_module": "@jupyter-widgets/controls",
          "model_module_version": "1.5.0",
          "model_name": "FloatProgressModel",
          "state": {
            "_dom_classes": [],
            "_model_module": "@jupyter-widgets/controls",
            "_model_module_version": "1.5.0",
            "_model_name": "FloatProgressModel",
            "_view_count": null,
            "_view_module": "@jupyter-widgets/controls",
            "_view_module_version": "1.5.0",
            "_view_name": "ProgressView",
            "bar_style": "success",
            "description": "",
            "description_tooltip": null,
            "layout": "IPY_MODEL_8f59fc4122d2494887fc1e4f92a37a1a",
            "max": 442221694,
            "min": 0,
            "orientation": "horizontal",
            "style": "IPY_MODEL_263d2b6dff444643b22fe37b1033bbbc",
            "value": 442221694
          }
        },
        "c53f05b998624d898e4b48bad95ea692": {
          "model_module": "@jupyter-widgets/controls",
          "model_module_version": "1.5.0",
          "model_name": "ProgressStyleModel",
          "state": {
            "_model_module": "@jupyter-widgets/controls",
            "_model_module_version": "1.5.0",
            "_model_name": "ProgressStyleModel",
            "_view_count": null,
            "_view_module": "@jupyter-widgets/base",
            "_view_module_version": "1.2.0",
            "_view_name": "StyleView",
            "bar_color": null,
            "description_width": ""
          }
        },
        "c63add04c74e47e19a1193090a2d2d9e": {
          "model_module": "@jupyter-widgets/controls",
          "model_module_version": "1.5.0",
          "model_name": "FloatProgressModel",
          "state": {
            "_dom_classes": [],
            "_model_module": "@jupyter-widgets/controls",
            "_model_module_version": "1.5.0",
            "_model_name": "FloatProgressModel",
            "_view_count": null,
            "_view_module": "@jupyter-widgets/controls",
            "_view_module_version": "1.5.0",
            "_view_name": "ProgressView",
            "bar_style": "success",
            "description": "",
            "description_tooltip": null,
            "layout": "IPY_MODEL_6fd8df7f1e1940e09fe69ed2785ff466",
            "max": 385,
            "min": 0,
            "orientation": "horizontal",
            "style": "IPY_MODEL_c53f05b998624d898e4b48bad95ea692",
            "value": 385
          }
        },
        "de947cbe5d654bfbb7e439d2f325df86": {
          "model_module": "@jupyter-widgets/controls",
          "model_module_version": "1.5.0",
          "model_name": "DescriptionStyleModel",
          "state": {
            "_model_module": "@jupyter-widgets/controls",
            "_model_module_version": "1.5.0",
            "_model_name": "DescriptionStyleModel",
            "_view_count": null,
            "_view_module": "@jupyter-widgets/base",
            "_view_module_version": "1.2.0",
            "_view_name": "StyleView",
            "description_width": ""
          }
        },
        "e6d59633a26f4a0d9c97e19816af0c6e": {
          "model_module": "@jupyter-widgets/controls",
          "model_module_version": "1.5.0",
          "model_name": "HTMLModel",
          "state": {
            "_dom_classes": [],
            "_model_module": "@jupyter-widgets/controls",
            "_model_module_version": "1.5.0",
            "_model_name": "HTMLModel",
            "_view_count": null,
            "_view_module": "@jupyter-widgets/controls",
            "_view_module_version": "1.5.0",
            "_view_name": "HTMLView",
            "description": "",
            "description_tooltip": null,
            "layout": "IPY_MODEL_44bd127536334425b4e44fc58fdb9a8c",
            "placeholder": "​",
            "style": "IPY_MODEL_de947cbe5d654bfbb7e439d2f325df86",
            "value": "config.json: 100%"
          }
        },
        "e9c1926355064c73a43b2a97dba47de9": {
          "model_module": "@jupyter-widgets/controls",
          "model_module_version": "1.5.0",
          "model_name": "HTMLModel",
          "state": {
            "_dom_classes": [],
            "_model_module": "@jupyter-widgets/controls",
            "_model_module_version": "1.5.0",
            "_model_name": "HTMLModel",
            "_view_count": null,
            "_view_module": "@jupyter-widgets/controls",
            "_view_module_version": "1.5.0",
            "_view_name": "HTMLView",
            "description": "",
            "description_tooltip": null,
            "layout": "IPY_MODEL_378460dcc5b04fbfb9c50e8defdcbb37",
            "placeholder": "​",
            "style": "IPY_MODEL_23ebcb5d067543e0a794d1abcc3b3ab9",
            "value": " 228k/228k [00:00&lt;00:00, 2.73MB/s]"
          }
        },
        "ea60b611beea4c5e8cf467894579a761": {
          "model_module": "@jupyter-widgets/controls",
          "model_module_version": "1.5.0",
          "model_name": "ProgressStyleModel",
          "state": {
            "_model_module": "@jupyter-widgets/controls",
            "_model_module_version": "1.5.0",
            "_model_name": "ProgressStyleModel",
            "_view_count": null,
            "_view_module": "@jupyter-widgets/base",
            "_view_module_version": "1.2.0",
            "_view_name": "StyleView",
            "bar_color": null,
            "description_width": ""
          }
        },
        "f25ca71bd7ce43beb4fe9d28216d7b5a": {
          "model_module": "@jupyter-widgets/base",
          "model_module_version": "1.2.0",
          "model_name": "LayoutModel",
          "state": {
            "_model_module": "@jupyter-widgets/base",
            "_model_module_version": "1.2.0",
            "_model_name": "LayoutModel",
            "_view_count": null,
            "_view_module": "@jupyter-widgets/base",
            "_view_module_version": "1.2.0",
            "_view_name": "LayoutView",
            "align_content": null,
            "align_items": null,
            "align_self": null,
            "border": null,
            "bottom": null,
            "display": null,
            "flex": null,
            "flex_flow": null,
            "grid_area": null,
            "grid_auto_columns": null,
            "grid_auto_flow": null,
            "grid_auto_rows": null,
            "grid_column": null,
            "grid_gap": null,
            "grid_row": null,
            "grid_template_areas": null,
            "grid_template_columns": null,
            "grid_template_rows": null,
            "height": null,
            "justify_content": null,
            "justify_items": null,
            "left": null,
            "margin": null,
            "max_height": null,
            "max_width": null,
            "min_height": null,
            "min_width": null,
            "object_fit": null,
            "object_position": null,
            "order": null,
            "overflow": null,
            "overflow_x": null,
            "overflow_y": null,
            "padding": null,
            "right": null,
            "top": null,
            "visibility": null,
            "width": null
          }
        },
        "fffafff031364b5293a17bb2d6239c9e": {
          "model_module": "@jupyter-widgets/controls",
          "model_module_version": "1.5.0",
          "model_name": "DescriptionStyleModel",
          "state": {
            "_model_module": "@jupyter-widgets/controls",
            "_model_module_version": "1.5.0",
            "_model_name": "DescriptionStyleModel",
            "_view_count": null,
            "_view_module": "@jupyter-widgets/base",
            "_view_module_version": "1.2.0",
            "_view_name": "StyleView",
            "description_width": ""
          }
        }
      }
    }
  },
  "nbformat": 4,
  "nbformat_minor": 0
}
